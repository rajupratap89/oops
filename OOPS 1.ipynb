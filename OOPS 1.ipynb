{
 "cells": [
  {
   "cell_type": "code",
   "execution_count": 1,
   "id": "9f22f63d-e00f-4755-9cb2-34120a23c268",
   "metadata": {},
   "outputs": [],
   "source": [
    "a=1"
   ]
  },
  {
   "cell_type": "code",
   "execution_count": 2,
   "id": "2801501f-e77c-4982-8758-85ca279c353f",
   "metadata": {},
   "outputs": [
    {
     "name": "stdout",
     "output_type": "stream",
     "text": [
      "<class 'int'>\n"
     ]
    }
   ],
   "source": [
    "print(type(a))"
   ]
  },
  {
   "cell_type": "code",
   "execution_count": 3,
   "id": "b953eda6-5477-4f7a-af6d-ff357193621a",
   "metadata": {},
   "outputs": [
    {
     "name": "stdout",
     "output_type": "stream",
     "text": [
      "<class 'str'>\n"
     ]
    }
   ],
   "source": [
    "print(type(\"raju\"))"
   ]
  },
  {
   "cell_type": "code",
   "execution_count": 4,
   "id": "3c371f3a-7245-4eee-b2f3-ca372865bfbd",
   "metadata": {},
   "outputs": [],
   "source": [
    "class test :\n",
    "    pass"
   ]
  },
  {
   "cell_type": "code",
   "execution_count": 5,
   "id": "21f81d79-2246-4e3e-9d5f-bba29181d66a",
   "metadata": {},
   "outputs": [],
   "source": [
    "a=test()"
   ]
  },
  {
   "cell_type": "code",
   "execution_count": 6,
   "id": "f48cc7d0-eb56-413a-bd56-38b8240803d6",
   "metadata": {},
   "outputs": [
    {
     "name": "stdout",
     "output_type": "stream",
     "text": [
      "<class '__main__.test'>\n"
     ]
    }
   ],
   "source": [
    "print(type(a))"
   ]
  },
  {
   "cell_type": "code",
   "execution_count": 7,
   "id": "04f4b708-50a7-4fbd-9442-2ea39bc42fcc",
   "metadata": {},
   "outputs": [],
   "source": [
    "class pwskills :\n",
    "    \n",
    "    def welcome_msg(self):\n",
    "        print(\"welcome to class\")"
   ]
  },
  {
   "cell_type": "code",
   "execution_count": 8,
   "id": "e8f3ca5a-4323-4c07-ba81-aeec9a73cff2",
   "metadata": {},
   "outputs": [],
   "source": [
    "rayu=pwskills()"
   ]
  },
  {
   "cell_type": "code",
   "execution_count": 9,
   "id": "ceccfc8a-5414-466e-b8fb-38f99d96e73a",
   "metadata": {},
   "outputs": [
    {
     "name": "stdout",
     "output_type": "stream",
     "text": [
      "<class '__main__.pwskills'>\n"
     ]
    }
   ],
   "source": [
    "print(type(rayu))"
   ]
  },
  {
   "cell_type": "code",
   "execution_count": 11,
   "id": "821532e0-7cea-4812-a8c0-465cd4805ca3",
   "metadata": {},
   "outputs": [
    {
     "name": "stdout",
     "output_type": "stream",
     "text": [
      "welcome to class\n"
     ]
    }
   ],
   "source": [
    "rayu.welcome_msg()"
   ]
  },
  {
   "cell_type": "code",
   "execution_count": 12,
   "id": "1c5e8796-a59e-40eb-af27-25022fd61788",
   "metadata": {},
   "outputs": [],
   "source": [
    "ramu=pwskills()"
   ]
  },
  {
   "cell_type": "code",
   "execution_count": 13,
   "id": "c10807a6-b504-4744-8c43-1b00a9dd6858",
   "metadata": {},
   "outputs": [
    {
     "name": "stdout",
     "output_type": "stream",
     "text": [
      "welcome to class\n"
     ]
    }
   ],
   "source": [
    "ramu.welcome_msg()"
   ]
  },
  {
   "cell_type": "code",
   "execution_count": 14,
   "id": "9bd0b139-02aa-4de5-b3fd-c5d635e4f0c2",
   "metadata": {},
   "outputs": [],
   "source": [
    "class pwskills1 :\n",
    "    \n",
    "    def __init__(self ,mobile_number ,email_id ,student_id):\n",
    "        self.mobile_number =mobile_number\n",
    "        self.email_id=email_id\n",
    "        self.student_id=student_id\n",
    "        \n",
    "    def student_details(self):\n",
    "        return self.mobile_number,self.email_id,self.student_id\n",
    "     "
   ]
  },
  {
   "cell_type": "code",
   "execution_count": 15,
   "id": "8858b62d-65ee-4f1c-8ba4-88c9d1c829fd",
   "metadata": {},
   "outputs": [
    {
     "ename": "TypeError",
     "evalue": "pwskills1.__init__() missing 3 required positional arguments: 'mobile_number', 'email_id', and 'student_id'",
     "output_type": "error",
     "traceback": [
      "\u001b[0;31m---------------------------------------------------------------------------\u001b[0m",
      "\u001b[0;31mTypeError\u001b[0m                                 Traceback (most recent call last)",
      "Cell \u001b[0;32mIn[15], line 1\u001b[0m\n\u001b[0;32m----> 1\u001b[0m rohan\u001b[38;5;241m=\u001b[39m\u001b[43mpwskills1\u001b[49m\u001b[43m(\u001b[49m\u001b[43m)\u001b[49m\n",
      "\u001b[0;31mTypeError\u001b[0m: pwskills1.__init__() missing 3 required positional arguments: 'mobile_number', 'email_id', and 'student_id'"
     ]
    }
   ],
   "source": [
    "rohan=pwskills1()"
   ]
  },
  {
   "cell_type": "code",
   "execution_count": 19,
   "id": "42225e2e-b3d9-4b4a-8b77-1bba56214adc",
   "metadata": {},
   "outputs": [],
   "source": [
    "rohan=pwskills1(12345478,\"rohan@gmail.com\",100)"
   ]
  },
  {
   "cell_type": "code",
   "execution_count": 20,
   "id": "72f3803c-ebca-4cb2-a927-a719e2243046",
   "metadata": {},
   "outputs": [
    {
     "data": {
      "text/plain": [
       "(12345478, 'rohan@gmail.com', 100)"
      ]
     },
     "execution_count": 20,
     "metadata": {},
     "output_type": "execute_result"
    }
   ],
   "source": [
    "rohan.student_details()"
   ]
  },
  {
   "cell_type": "code",
   "execution_count": 21,
   "id": "a032bda1-a8a8-4ddc-9d3a-33d15eb54edd",
   "metadata": {},
   "outputs": [],
   "source": [
    "chomu=pwskills1(121545155,\"chomu@gmaail.com\",99)"
   ]
  },
  {
   "cell_type": "code",
   "execution_count": 22,
   "id": "4d7e64fe-9dab-4a48-9cbe-28cc46a9f8c1",
   "metadata": {},
   "outputs": [
    {
     "data": {
      "text/plain": [
       "(121545155, 'chomu@gmaail.com', 99)"
      ]
     },
     "execution_count": 22,
     "metadata": {},
     "output_type": "execute_result"
    }
   ],
   "source": [
    "chomu.student_details()"
   ]
  },
  {
   "cell_type": "code",
   "execution_count": 37,
   "id": "53b31ee6-faba-493e-b9bf-57c4dd1964bc",
   "metadata": {},
   "outputs": [],
   "source": [
    "class pwskills2 :\n",
    "    \n",
    "    def __init__(self ,mobile_number ,email_id ,student_id):\n",
    "        self.mobile_number1 =mobile_number\n",
    "        self.email_id1=email_id\n",
    "        self.student_id1=student_id\n",
    "        \n",
    "    def student_details(self):\n",
    "        return self.mobile_number1,self.email_id1,self.student_id1\n",
    "     "
   ]
  },
  {
   "cell_type": "code",
   "execution_count": 38,
   "id": "389a11f0-03cb-4d63-a1e4-0130af166d0b",
   "metadata": {},
   "outputs": [],
   "source": [
    "raju=pwskills2(4587545552,\"raju@gmail.com\",108)"
   ]
  },
  {
   "cell_type": "code",
   "execution_count": 32,
   "id": "15058e62-48db-4580-b017-34c20d4a51c6",
   "metadata": {},
   "outputs": [
    {
     "data": {
      "text/plain": [
       "4587545552"
      ]
     },
     "execution_count": 32,
     "metadata": {},
     "output_type": "execute_result"
    }
   ],
   "source": [
    "raju.mobile_number1"
   ]
  },
  {
   "cell_type": "code",
   "execution_count": 33,
   "id": "efe7b0d3-67b9-4ade-8e71-74bf367339c1",
   "metadata": {},
   "outputs": [
    {
     "data": {
      "text/plain": [
       "108"
      ]
     },
     "execution_count": 33,
     "metadata": {},
     "output_type": "execute_result"
    }
   ],
   "source": [
    "raju.student_id1"
   ]
  },
  {
   "cell_type": "code",
   "execution_count": 40,
   "id": "168d2168-8223-4416-8352-afe6773cc640",
   "metadata": {},
   "outputs": [
    {
     "ename": "AttributeError",
     "evalue": "'pwskills2' object has no attribute 'student_detail'",
     "output_type": "error",
     "traceback": [
      "\u001b[0;31m---------------------------------------------------------------------------\u001b[0m",
      "\u001b[0;31mAttributeError\u001b[0m                            Traceback (most recent call last)",
      "Cell \u001b[0;32mIn[40], line 1\u001b[0m\n\u001b[0;32m----> 1\u001b[0m \u001b[43mraju\u001b[49m\u001b[38;5;241;43m.\u001b[39;49m\u001b[43mstudent_detail\u001b[49m()\n",
      "\u001b[0;31mAttributeError\u001b[0m: 'pwskills2' object has no attribute 'student_detail'"
     ]
    }
   ],
   "source": [
    "raju.student_detail()"
   ]
  },
  {
   "cell_type": "code",
   "execution_count": null,
   "id": "3eb89a69-2e95-41fc-9913-5d7e8ca8569c",
   "metadata": {},
   "outputs": [],
   "source": []
  }
 ],
 "metadata": {
  "kernelspec": {
   "display_name": "Python 3 (ipykernel)",
   "language": "python",
   "name": "python3"
  },
  "language_info": {
   "codemirror_mode": {
    "name": "ipython",
    "version": 3
   },
   "file_extension": ".py",
   "mimetype": "text/x-python",
   "name": "python",
   "nbconvert_exporter": "python",
   "pygments_lexer": "ipython3",
   "version": "3.10.8"
  }
 },
 "nbformat": 4,
 "nbformat_minor": 5
}
